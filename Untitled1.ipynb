{
  "cells": [
    {
      "cell_type": "markdown",
      "metadata": {
        "id": "view-in-github",
        "colab_type": "text"
      },
      "source": [
        "<a href=\"https://colab.research.google.com/github/Bantyrajpuana/python-tutorial/blob/main/Untitled1.ipynb\" target=\"_parent\"><img src=\"https://colab.research.google.com/assets/colab-badge.svg\" alt=\"Open In Colab\"/></a>"
      ]
    },
    {
      "cell_type": "markdown",
      "source": [
        "# data strucrure\n",
        "\n",
        "> data structure is a way to store and organize data so that it can be used efficiently\n",
        "\n",
        "> as per name indicate itself that organizing the data in the memory\n",
        "\n",
        " > the data structre is not a programming language like python ,c ,c++ etc .IT IS a set of algorithm that we can use in any programmimg language to structure data in memory..\n",
        "\n",
        "\n",
        "*data structure * 1)primitive data structure === int ,char ,float ,double ,pointer\n",
        "2)non-primitive data structure === linear data structure,non linear data structure\n",
        "\n",
        "\n",
        "\n",
        "\n",
        "\n"
      ],
      "metadata": {
        "id": "pGZbh81OYoio"
      }
    },
    {
      "cell_type": "markdown",
      "source": [
        "\n",
        "#array\n",
        "an array is a data structure used to store multiple elements.it is used in many algorithm.for example => my_array=[3,4,5,6,7,8]\n",
        "array are indexed ,meaning that each element in the array has indexed ,means indexed 0 is the first element of the array.\n",
        "\n",
        "\n",
        "\n",
        "**algorithm to find the minval in array <br>\n",
        "step 1. create a minval and set it to equal to the first value.<br>\n",
        "step 2. go through every element in the array.<br>\n",
        "step 3. if the current element has a lower value than 'minval' .update to this value<br>\n",
        "step 4. after looking at all the element in the array the minval variable now contain lowest value\n",
        "\n",
        "variable minval =array[0]<br>\n",
        "for each element in the array<br>\n",
        " if current element < minval<br>\n",
        "   minval=current element<br>\n",
        "\n",
        "\n",
        "time complexity o(n): the time the algorithm needs to run is proportional or linear to the size of data set.\n",
        "\n",
        "\n",
        "#BUBBLE SORT\n",
        "\n",
        "\n",
        "*   bubble sort is a simple sorting algrithm that repeatedly step through the list ,compare adjacent elements, and swap them if they are in wrong order . this process is repeated until the list is sorted ...it is not efficient for large data set ..\n",
        "it is an algorithm that sorts an array from the lowest value to the highest value.it makes highest value bubble up.\n",
        "*   #HOW BUBBLE SORT WORK\n",
        "     \n",
        "\n",
        "1.   INITIAL SETUP\n",
        "2.   COMPRISION\n",
        "3.   ITERATION\n",
        "4.   BUBBING UP\n",
        "5.   TERMINATION\n",
        "\n",
        "#OPTIMIZATION\n",
        "\n",
        "\n",
        "1.   EARLY EXIT\n",
        "2.   REDUCED COMPRISION\n",
        "\n",
        "#TIME COMPLEXITY\n",
        "\n",
        "\n",
        "1.   BEST CASE\n",
        "2.  AVERAGE CASE\n",
        "3.  WORST Case\n",
        "\n",
        "\n",
        "#selection sort\n",
        "\n",
        "it is a simle comparison-based sorting algorithm. it divides the input list into two part. initially,the sorted part is empty and the unsorted part contain the entire list.the algorithm continuously select the smallest(or largest depending on the sorting order)elemenet from the unsorted part and moves it to the sorted part.\n",
        "\n",
        "**steps of selection sort**\n",
        "1. find the smallest element in the unsorted part  of the list.<br>\n",
        "2.swap it with the first element of the unsorted part.<br>\n",
        "3.move the boundary between the sorted and unsorted part one element forward.<br>\n",
        "4.repeat until the entire list is sorted\n",
        "\n",
        "**characterstics**\n",
        "\n",
        "time complexity\n",
        "\n",
        "* best case ▶ o(n^2)\n",
        "*worst case ▶o(n^2)\n",
        "*average case ▶ o(n^2)\n",
        "\n",
        "space complexity: o(1) -in place of algorithm\n",
        "\n",
        "stable? : no  - unless modiffied ti aviud ynnecessary swaps\n",
        "\n",
        "adaptivity? : no\n",
        "\n",
        "\n",
        "#insertion sort\n",
        "it is a simple sorting algorithm that builds a sorted array one element at a time by repeatedly taking an unsorted elelment and inserting it into its correct position within the sorted portion .it is efficient for small data set and works similary to the wat you might sort playing card in your hand .\n",
        "\n",
        "**time complexity**\n",
        "best case: o(n) - this occur when the array is already sorted.,\n",
        "average case and worst case : o(n^2) -this happens when the array is in reverse order or randomly ordered.\n",
        "\n",
        "**space complexity**\n",
        "auxilary space: o(1) - inserting sort is an in-place sorting algorithm ,meaning it requires a constant amount of additional space.\n",
        "\n",
        "**advantage**\n",
        "* simple and easy to implement\n",
        "*stable sorting algorithm\n",
        "* efficient for small or nearly sorted list\n",
        "*space-efficientass it is an in-place algorithm\n",
        "\n",
        "**disadvantage**\n",
        "* inefficient for large list compared to more advanced algorithm like quicksort ot mergesort\n",
        "*not suitable for large dataset due to its o(n^2) time complexity in the average and worst case\n",
        "\n",
        "#quick sort\n",
        "it is one of the fastest sorting algorithm.it is a highly efficient sorting algorithm that employs a divide-and-conquer stratergy .it works by selecting a pivot element ,partitioning the array around the pivot and recursively.sorting the resulting sub-array\n",
        "\n",
        "*  choose a pivot: an element is selected from the array as the pivot. the choice can vary(e.g. , first element ,last element,random element,or median\n",
        "*  partition the array: the array is rearranged around the pivot. elements smaller than the pivot are moved to its left and those greater are moved to its right .the pivot is then placed in its correct position..\n",
        "*  recursively call: the process is applied recursively to the two sub-arrays formed by the partitioning\n",
        "*  base case :  the recursion stop when a sub-array has only one element,as it is already sorted.\n",
        "\n",
        "**time complexity**\n",
        "* best case : ohm(n log n) - occur when the pivot divides the array into two wqualhalves\n",
        "*average case: thita(n log n)- on average the pivot divides the array into two parts ,but not neccessary equal.\n",
        "*worst case: occurs when the smallest or largest element is always chosen as the pivot(e.g. sorted array)\n",
        "*auxilary space : o(n) due to the recursive call stack\n",
        "\n",
        "**advatage**\n",
        "* efficient for large datasets with an average case time comeplexity of o(n log n)\n",
        "*low overhead,requiring minimal additional memory.\n",
        "*cache friendly as it sorts in place without needing auxiliary arrays.\n",
        "* fastest general purpose algorithm for large datasets whwn stabilit is not a concern.\n",
        "\n",
        "**disadvantage**\n",
        "* worst case time complexity of o(n^2) if the pivot is purely choosen\n",
        "*not ideal for small dataset ,where simpler algorithms may perform better.\n",
        "\n",
        "#counting sort\n",
        "it is a non comparison based sorting algorithm that sorts integeres within a limited range. it works by counting the frequency of each element then using this frequency data to arrarnge the element in sorted order.\n",
        "\n",
        "**time complexity**\n",
        "o(n+k) where n is the numbere of element in the array and k is the range of the input values\n",
        "\n",
        "**space complesxity**\n",
        "o(n+k)due to the auxiliary count and output arrays.\n",
        "\n",
        "**stability**\n",
        "it is stable,mean it preserves the relative order of equal elements\n",
        "\n",
        "**steps of counting sort **\n",
        "* find the range(min and max)\n",
        "*counting occurance\n",
        "*accumulate counst\n",
        "*build the output array\n",
        "*copy back to input\n",
        "\n",
        "#radix sort\n",
        "it is a non comparative integer based sorting algorithm that works by distributing element into bucket according to their individual digits it processes the digits of the numeres from the least significant to the most significant (lsd radix sort )or vice versa (msd radix sort)it is paticularly effective for sorting integr or string with fixed digit lengths\n",
        "\n",
        "**time complexity**o(d.(n+k))\n",
        "* d is the number of digits in the largest number\n",
        "* n is the number of elements\n",
        "* k is the base\n",
        "**space complexity**o(n+k) for bucket\n",
        "\n",
        "**steps of the radix sort**\n",
        "* find the maximum number\n",
        "* sort based on each digit\n",
        "* use a stable sorting algorithm\n",
        "* repeat the sorting process for all digit places\n",
        "\n",
        "#merge sort\n",
        "it is a divide and comquer algorithm that split an array into smaller subarray sort them and then merges them back together to form the final sorted array it's efficient with a time complexity of o(n log n) for all cases\n",
        "\n",
        "**steps for merge sort**\n",
        "* recusively split the array into halves\n",
        "* continue until array of size 1 are achieved\n",
        "* merge two sorted array:\n",
        "     1. compare the first elements of both array\n",
        "     2. add the smaller element to the new array\n",
        "     3.  continue until all element are merged..\n",
        "     "
      ],
      "metadata": {
        "id": "qM2oh-fXZFwM"
      }
    },
    {
      "cell_type": "code",
      "source": [
        "def bubble_sort(arr):\n",
        "\n",
        "  for i in range(len(arr)):\n",
        "      swapped=False\n",
        "      for j in range(0,len(arr)-i-1):\n",
        "          if arr[j]>arr[j+1]:\n",
        "              arr[j],arr[j+1]=arr[j+1],arr[j]\n",
        "              swapped=True\n",
        "      if not swapped:\n",
        "          break\n",
        "\n",
        "arr=[88,22,44,11,22,66,5]\n",
        "bubble_sort(arr)\n",
        "print(arr)"
      ],
      "metadata": {
        "id": "rgJlgvG68wTz",
        "colab": {
          "base_uri": "https://localhost:8080/"
        },
        "outputId": "f79e317a-c3d8-4376-fed2-d49f58f920fb"
      },
      "execution_count": null,
      "outputs": [
        {
          "output_type": "stream",
          "name": "stdout",
          "text": [
            "[5, 11, 22, 22, 44, 66, 88]\n"
          ]
        }
      ]
    },
    {
      "cell_type": "code",
      "source": [
        "my_array=[2442,5,.5,66,6666,36,4463,66,64356,77]\n",
        "\n",
        "n=len(my_array)\n",
        "for i in range(n-1):\n",
        "  for j in range(n-i-1):\n",
        "    if my_array[j] >my_array [j+1]:\n",
        "      my_array[j],my_array[j+1]=my_array[j+1],my_array[j]\n",
        "print(\"sorted array\",my_array)\n"
      ],
      "metadata": {
        "colab": {
          "base_uri": "https://localhost:8080/"
        },
        "id": "cBQxPso6dX-Z",
        "outputId": "586abbdb-0721-4583-c1da-da4862b2c072"
      },
      "execution_count": null,
      "outputs": [
        {
          "output_type": "stream",
          "name": "stdout",
          "text": [
            "sorted array [0.5, 5, 36, 66, 66, 77, 2442, 4463, 6666, 64356]\n"
          ]
        }
      ]
    },
    {
      "cell_type": "code",
      "source": [
        "def selection_sort(arr):\n",
        "  n=len(arr)\n",
        "  for i in range(n):\n",
        "    min_index=i\n",
        "    for j in range(i+1,n):\n",
        "      if arr[j]<arr[min_index]:\n",
        "        min_index=j\n",
        "    arr[i],arr[min_index]=arr[min_index],arr[i]\n",
        "\n",
        "array=[64,25,12,22,11]\n",
        "selection_sort(array)\n",
        "print(\"sorted part\",array)"
      ],
      "metadata": {
        "colab": {
          "base_uri": "https://localhost:8080/"
        },
        "id": "Hg4K3wjzphSL",
        "outputId": "9850b584-86c4-48e8-d7b8-f99bd2d693b9"
      },
      "execution_count": null,
      "outputs": [
        {
          "output_type": "stream",
          "name": "stdout",
          "text": [
            "sorted part [11, 12, 22, 25, 64]\n"
          ]
        }
      ]
    },
    {
      "cell_type": "code",
      "source": [
        "def insertion_sort(arr):\n",
        "  for i in range(1,len(arr)):\n",
        "    j = i-1\n",
        "    while j>=0 and arr[i]<arr[j]:\n",
        "      arr[j+1]=arr[j]\n",
        "      j-=1\n",
        "    arr[j+1]=arr[i]\n",
        "  return arr\n",
        "\n",
        "array=[12,113,13,5,6]\n",
        "sorted_array=insertion_sort(array)\n",
        "print(sorted_array)\n"
      ],
      "metadata": {
        "colab": {
          "base_uri": "https://localhost:8080/"
        },
        "id": "xX9T3iajvs5T",
        "outputId": "48e8e8c4-816c-446c-bd2a-3cbfafd8ea62"
      },
      "execution_count": null,
      "outputs": [
        {
          "output_type": "stream",
          "name": "stdout",
          "text": [
            "[12, 113, 113, 113, 113]\n"
          ]
        }
      ]
    },
    {
      "cell_type": "code",
      "source": [
        "def insertion_sort(arr):\n",
        "    for i in range(1, len(arr)):\n",
        "        key = arr[i]\n",
        "        j = i - 1\n",
        "        while j >= 0 and key < arr[j]:\n",
        "            arr[j + 1] = arr[j]\n",
        "            j -= 1\n",
        "        arr[j + 1] = key\n",
        "    return arr\n",
        "\n",
        "array = [12, 113, 13, 5, 6]\n",
        "sorted_array = insertion_sort(array)\n",
        "print(sorted_array)\n"
      ],
      "metadata": {
        "colab": {
          "base_uri": "https://localhost:8080/"
        },
        "id": "0-6wY3YMyHor",
        "outputId": "8388743a-073c-4fae-a24b-3c7d8250d37a"
      },
      "execution_count": null,
      "outputs": [
        {
          "output_type": "stream",
          "name": "stdout",
          "text": [
            "[5, 6, 12, 13, 113]\n"
          ]
        }
      ]
    },
    {
      "cell_type": "markdown",
      "source": [
        "#PYTHON\n",
        "CREATED BY GUIDO  VAN ROSSUM ANDRELEASED IN 1991\n",
        "\n",
        "**WHAT CAN PYTHON DO**\n",
        "\n",
        "\n",
        "*   PYTHON CAN BE used on a  server to create web application\n",
        "*   python van be used alongside sofetware to create workflows\n",
        "*   python can conect to database systems.it can also read and modify files\n",
        "*   \n",
        "\n",
        "\n",
        "\n"
      ],
      "metadata": {
        "id": "1ThE4qOuMkIf"
      }
    },
    {
      "cell_type": "code",
      "source": [
        "print('hello banty nice to watch u again')\n",
        "x=55\n",
        "y=\"banty is gang member\"\n",
        "print(type(x))\n",
        "print(type(y))\n",
        "print(len(y))\n",
        "x=str(x)\n",
        "print(len(x))\n",
        "c,y,z=1,2,3\n",
        "print(c,y,z)\n",
        "c,y,z=y,z,c\n",
        "print(c,y,z)\n",
        "c,y,z=\"much\",\"better\",\"than\"\n",
        "print(c,y,z)\n",
        "S=4+2j\n",
        "print(type(S))\n",
        "import random\n",
        "print(random.randrange(1,777))\n",
        "for s in \"banty\":\n",
        "  print(s)\n",
        "txt= \"banty is bad guy\"\n",
        "print(\"bad\" in txt)\n",
        "print(\"bad\" not in txt)\n",
        "m=\"hellow, banty\"\n",
        "print(m[2:])\n",
        "print(m[2: :4])\n",
        "print(m[:-5])\n",
        "m=\"hellow, banty\"\n",
        "print(m.upper())\n",
        "print(m.lower())\n",
        "print(m.strip())#it is method to remome white spaces\n",
        "print(m.replace(\"h\",\"b\"))\n",
        "print(m.split(\"**\"))\n",
        "age = 21\n",
        "txt=f\"my name is banty and i am {age:.2f} year old\"#place 2f to presnt 2decimal fixed point\n",
        "print(txt)\n",
        "a=\"banty\\ooo\"#learn about octal\\ooo and hexal\\xhh\n",
        "print(a)"
      ],
      "metadata": {
        "colab": {
          "base_uri": "https://localhost:8080/"
        },
        "id": "X-yK1WLtM2Ue",
        "outputId": "93af0a4b-8163-4fa1-f5f3-a309f141e47c"
      },
      "execution_count": null,
      "outputs": [
        {
          "output_type": "stream",
          "name": "stdout",
          "text": [
            "hello banty nice to watch u again\n",
            "<class 'int'>\n",
            "<class 'str'>\n",
            "20\n",
            "2\n",
            "1 2 3\n",
            "2 3 1\n",
            "much better than\n",
            "<class 'complex'>\n",
            "32\n",
            "b\n",
            "a\n",
            "n\n",
            "t\n",
            "y\n",
            "True\n",
            "False\n",
            "llow, banty\n",
            "l,n\n",
            "hellow, \n",
            "HELLOW, BANTY\n",
            "hellow, banty\n",
            "hellow, banty\n",
            "bellow, banty\n",
            "['hellow, banty']\n",
            "my name is banty and i am 21.00 year old\n",
            "banty\\ooo\n"
          ]
        }
      ]
    },
    {
      "cell_type": "code",
      "source": [
        "#50)  access index of a list using for loop\n",
        "my_list=[33,22,112,55,66,5]\n",
        "for index,val in enumerate(my_list,start=1):\n",
        "  print(index,val)\n",
        "\n",
        "#start the indexing with nin zero value\n",
        "# for index,val in\n",
        "pass"
      ],
      "metadata": {
        "id": "3-AE5F0lqNCj"
      },
      "execution_count": null,
      "outputs": []
    },
    {
      "cell_type": "code",
      "source": [
        "from pickle import REDUCE\n",
        "# 51)   flatten a nested list\n",
        "# 1  using list comprehension\n",
        "my_list=[[1],[2,3],[4,5,6,7]]\n",
        "flat_list=[num for sublist in my_list for num in sublist]\n",
        "print(flat_list)\n",
        "\n",
        "#2 using non pythonic(nested for loop)\n",
        "my__list = [[1],[2,3,4,43,44],[2244,244,44,44]]\n",
        "pythonic=[]\n",
        "for sublist in my__list:\n",
        "  for num in sublist:\n",
        "    pythonic.append(num)\n",
        "print(pythonic)\n",
        "\n",
        "#3 using itertools package\n",
        "import itertools\n",
        "r_list=[[544],[442,24,44445,33],[656,46,00,46,5]]\n",
        "# flat=list(itertools.chain(*r_list))\n",
        "# print(flat)\n",
        "\n",
        "#4  using sum\n",
        "dark=sum(my__list, [])\n",
        "print(dark)\n",
        "\n",
        "#5  using lambda and reduce\n",
        "from functools import reduce\n",
        "print(reduce(lambda x,y:x+y,r_list))"
      ],
      "metadata": {
        "colab": {
          "base_uri": "https://localhost:8080/"
        },
        "id": "FBAO54Ayhl48",
        "outputId": "b8dc4f91-9ae0-416a-fb98-706616e42b80"
      },
      "execution_count": null,
      "outputs": [
        {
          "output_type": "stream",
          "name": "stdout",
          "text": [
            "[1, 2, 3, 4, 5, 6, 7]\n",
            "[1, 2, 3, 4, 43, 44, 2244, 244, 44, 44]\n",
            "[1, 2, 3, 4, 43, 44, 2244, 244, 44, 44]\n",
            "[544, 442, 24, 44445, 33, 656, 46, 0, 46, 5]\n"
          ]
        }
      ]
    },
    {
      "cell_type": "markdown",
      "source": [
        "**variable names**\n",
        "\n",
        "*    a variable name must start with a letter or the underscore charcter\n",
        "*   a variable name cannot start with a number\n",
        "*   a variable name can only comtain alpha numeric characters and underscores\n",
        "*   variable names are case-sensetive\n",
        "*   a variable name canot be any of the python keywods\n",
        "\n",
        "**built in data type**\n",
        "variable can store data of different types and different types can do different things\n",
        "\n",
        "TEXT TYPE:   STR<br>\n",
        "NUMERIC TYPES   INT, FLOAT ,COMPLEX<br>\n",
        "SEQUENCE TYPE   LIST,TUPLE ,RANGE<br>\n",
        "MAPPING TYPE   SICT<br>\n",
        "SET TYPES  SET ,SROZENSET<br>\n",
        "BOOLEAN TYPE   BOOL<br>\n",
        "BINARY TYPES :   BYTES,BYTEARRAY,MEMORYVIEW<br>\n",
        "NONE TYPE   : NONE TYPE<br>\n",
        "\n",
        "**F-STRING**\n",
        "to specify a string as an f-string simply put an f in front of the string literal and add curly brackets{} placeholders for variablesand other operation\n",
        "\n",
        "**boolean**\n",
        "almost any value evaluated to **true** if it has some content<br>\n",
        "any list,tuple,set ,dictionary are true\n",
        "except --empty string,0,false,none,(),[],{},__len__\n",
        "\n",
        "**operator**\n",
        "* arithmetic operators*<br>\n",
        "addition + ,substraction - ,multiplication *  ,division / ,module  %  ,   exponatiation **  ,    floor division //<br>\n",
        "* assignment operators * <br>\n",
        "=,+=,-=,*=,/=,%=,**=,&=,|=,^=,>>=,<<=,=<br>\n",
        "compariaon operator<br>\n",
        "equal ==,not equal  !=, greater than >,less than <,greater than or equal to >=, <= less than ot wqual to<br>\n",
        "* logical operator *<br>\n",
        "return true if both condition true (and), retuen rrue if one comdition true (or),reverse the result (not)\n",
        "* identity operator *<br>\n",
        "return true if both variable are the same object (is),return true if both variable are not the same object (is not)\n",
        "* membership operator*<br>\n",
        "return true if a seuence with the specified value is present in the object (in),return true i fa sequence wirh the specified value is not present in the object (is not)   (if content are same but value not equal then falde\n",
        "* bitwise operator *<br>\n",
        "set is bit to 1 if both bits are 1 (and &),se"
      ],
      "metadata": {
        "id": "4HzggFAQQqkM"
      }
    },
    {
      "cell_type": "code",
      "source": [
        "#is_pronic\n",
        "def is_pronic(num):\n",
        "  for i in range(num):\n",
        "    pronic=i*(i+1)\n",
        "    if pronic<=num:\n",
        "      print(pronic)\n",
        "\n",
        "is_pronic(110)\n"
      ],
      "metadata": {
        "colab": {
          "base_uri": "https://localhost:8080/"
        },
        "id": "o_Zz940F63N0",
        "outputId": "9dc2db86-4bc9-4986-81f6-5c7715cd74fb"
      },
      "execution_count": null,
      "outputs": [
        {
          "output_type": "stream",
          "name": "stdout",
          "text": [
            "0\n",
            "2\n",
            "6\n",
            "12\n",
            "20\n",
            "30\n",
            "42\n",
            "56\n",
            "72\n",
            "90\n",
            "110\n"
          ]
        }
      ]
    },
    {
      "cell_type": "code",
      "source": [
        "\n",
        "import random\n",
        "\n",
        "def spin_wheel():\n",
        "  symbol=['star','diamond','cherry','seven','bottle']\n",
        "  return [random.choice(symbol) for _ in range(3)]\n",
        "\n",
        "def check_jackpot(spin_result):\n",
        "  return spin_result[0] == spin_result[1] == spin_result[2]\n",
        "\n",
        "\n",
        "def play_game():\n",
        "  print( \"welcome to the jackpot game !\" )\n",
        "  while True:\n",
        "    print(\"press enter the spin wheel....\")\n",
        "    result=spin_wheel()\n",
        "    print(\"spinning..\",result)\n",
        "\n",
        "    if check_jackpot(result):\n",
        "      print(\"cogrulation host you win the jackpot\")\n",
        "      break\n",
        "\n",
        "\n",
        "\n",
        "\n",
        "play_game()"
      ],
      "metadata": {
        "colab": {
          "base_uri": "https://localhost:8080/"
        },
        "id": "AIOoNXmhKhRg",
        "outputId": "94af8e9f-66ab-4bd4-e1e9-1a79981261a7",
        "collapsed": true
      },
      "execution_count": null,
      "outputs": [
        {
          "output_type": "stream",
          "name": "stdout",
          "text": [
            "welcome to the jackpot game !\n",
            "press enter the spin wheel....\n",
            "spinning.. ['diamond', 'cherry', 'star']\n",
            "press enter the spin wheel....\n",
            "spinning.. ['diamond', 'cherry', 'seven']\n",
            "press enter the spin wheel....\n",
            "spinning.. ['bottle', 'seven', 'seven']\n",
            "press enter the spin wheel....\n",
            "spinning.. ['seven', 'diamond', 'seven']\n",
            "press enter the spin wheel....\n",
            "spinning.. ['cherry', 'seven', 'cherry']\n",
            "press enter the spin wheel....\n",
            "spinning.. ['seven', 'diamond', 'seven']\n",
            "press enter the spin wheel....\n",
            "spinning.. ['bottle', 'cherry', 'bottle']\n",
            "press enter the spin wheel....\n",
            "spinning.. ['bottle', 'diamond', 'cherry']\n",
            "press enter the spin wheel....\n",
            "spinning.. ['cherry', 'star', 'bottle']\n",
            "press enter the spin wheel....\n",
            "spinning.. ['diamond', 'star', 'bottle']\n",
            "press enter the spin wheel....\n",
            "spinning.. ['bottle', 'star', 'star']\n",
            "press enter the spin wheel....\n",
            "spinning.. ['seven', 'cherry', 'star']\n",
            "press enter the spin wheel....\n",
            "spinning.. ['cherry', 'diamond', 'bottle']\n",
            "press enter the spin wheel....\n",
            "spinning.. ['star', 'diamond', 'cherry']\n",
            "press enter the spin wheel....\n",
            "spinning.. ['cherry', 'star', 'star']\n",
            "press enter the spin wheel....\n",
            "spinning.. ['seven', 'cherry', 'diamond']\n",
            "press enter the spin wheel....\n",
            "spinning.. ['diamond', 'star', 'cherry']\n",
            "press enter the spin wheel....\n",
            "spinning.. ['cherry', 'cherry', 'diamond']\n",
            "press enter the spin wheel....\n",
            "spinning.. ['seven', 'diamond', 'seven']\n",
            "press enter the spin wheel....\n",
            "spinning.. ['bottle', 'bottle', 'seven']\n",
            "press enter the spin wheel....\n",
            "spinning.. ['diamond', 'star', 'diamond']\n",
            "press enter the spin wheel....\n",
            "spinning.. ['seven', 'bottle', 'cherry']\n",
            "press enter the spin wheel....\n",
            "spinning.. ['diamond', 'cherry', 'bottle']\n",
            "press enter the spin wheel....\n",
            "spinning.. ['star', 'seven', 'bottle']\n",
            "press enter the spin wheel....\n",
            "spinning.. ['star', 'bottle', 'seven']\n",
            "press enter the spin wheel....\n",
            "spinning.. ['star', 'seven', 'bottle']\n",
            "press enter the spin wheel....\n",
            "spinning.. ['bottle', 'diamond', 'cherry']\n",
            "press enter the spin wheel....\n",
            "spinning.. ['cherry', 'bottle', 'star']\n",
            "press enter the spin wheel....\n",
            "spinning.. ['star', 'cherry', 'seven']\n",
            "press enter the spin wheel....\n",
            "spinning.. ['bottle', 'seven', 'bottle']\n",
            "press enter the spin wheel....\n",
            "spinning.. ['seven', 'diamond', 'star']\n",
            "press enter the spin wheel....\n",
            "spinning.. ['diamond', 'star', 'seven']\n",
            "press enter the spin wheel....\n",
            "spinning.. ['star', 'bottle', 'bottle']\n",
            "press enter the spin wheel....\n",
            "spinning.. ['cherry', 'bottle', 'bottle']\n",
            "press enter the spin wheel....\n",
            "spinning.. ['star', 'cherry', 'diamond']\n",
            "press enter the spin wheel....\n",
            "spinning.. ['diamond', 'star', 'bottle']\n",
            "press enter the spin wheel....\n",
            "spinning.. ['seven', 'diamond', 'bottle']\n",
            "press enter the spin wheel....\n",
            "spinning.. ['star', 'cherry', 'seven']\n",
            "press enter the spin wheel....\n",
            "spinning.. ['star', 'star', 'cherry']\n",
            "press enter the spin wheel....\n",
            "spinning.. ['star', 'star', 'star']\n",
            "cogrulation host you win the jackpot\n"
          ]
        }
      ]
    },
    {
      "cell_type": "code",
      "source": [
        "import math\n",
        "from turtle import *\n",
        "def hearta(k):\n",
        "    return 15*math.sin(k)**3\n",
        "def heartb(k):\n",
        "    return 12*math.cos(k)-5*\\\n",
        "           math.cos(2*k)-2*\\\n",
        "           math.cos(3*k)-\\\n",
        "           math.cos(4*k)\n",
        "\n",
        "speed(1000)\n",
        "bgcolor(\"black\")\n",
        "for i in range(6000):\n",
        "    goto(hearta(i)*20,heartb(i)*20)\n",
        "    for j in range(5):\n",
        "        color('#f73487')\n",
        "    goto(0,0)\n",
        "done()\n"
      ],
      "metadata": {
        "colab": {
          "base_uri": "https://localhost:8080/",
          "height": 356
        },
        "id": "oWjgRozUJe5Y",
        "outputId": "db9fc102-e2c3-4c9b-d419-77918905144a",
        "collapsed": true
      },
      "execution_count": null,
      "outputs": [
        {
          "output_type": "error",
          "ename": "TclError",
          "evalue": "no display name and no $DISPLAY environment variable",
          "traceback": [
            "\u001b[0;31m---------------------------------------------------------------------------\u001b[0m",
            "\u001b[0;31mTclError\u001b[0m                                  Traceback (most recent call last)",
            "\u001b[0;32m<ipython-input-7-7d1ff23d7161>\u001b[0m in \u001b[0;36m<cell line: 11>\u001b[0;34m()\u001b[0m\n\u001b[1;32m      9\u001b[0m            \u001b[0mmath\u001b[0m\u001b[0;34m.\u001b[0m\u001b[0mcos\u001b[0m\u001b[0;34m(\u001b[0m\u001b[0;36m4\u001b[0m\u001b[0;34m*\u001b[0m\u001b[0mk\u001b[0m\u001b[0;34m)\u001b[0m\u001b[0;34m\u001b[0m\u001b[0;34m\u001b[0m\u001b[0m\n\u001b[1;32m     10\u001b[0m \u001b[0;34m\u001b[0m\u001b[0m\n\u001b[0;32m---> 11\u001b[0;31m \u001b[0mspeed\u001b[0m\u001b[0;34m(\u001b[0m\u001b[0;36m1000\u001b[0m\u001b[0;34m)\u001b[0m\u001b[0;34m\u001b[0m\u001b[0;34m\u001b[0m\u001b[0m\n\u001b[0m\u001b[1;32m     12\u001b[0m \u001b[0mbgcolor\u001b[0m\u001b[0;34m(\u001b[0m\u001b[0;34m\"black\"\u001b[0m\u001b[0;34m)\u001b[0m\u001b[0;34m\u001b[0m\u001b[0;34m\u001b[0m\u001b[0m\n\u001b[1;32m     13\u001b[0m \u001b[0;32mfor\u001b[0m \u001b[0mi\u001b[0m \u001b[0;32min\u001b[0m \u001b[0mrange\u001b[0m\u001b[0;34m(\u001b[0m\u001b[0;36m6000\u001b[0m\u001b[0;34m)\u001b[0m\u001b[0;34m:\u001b[0m\u001b[0;34m\u001b[0m\u001b[0;34m\u001b[0m\u001b[0m\n",
            "\u001b[0;32m/usr/lib/python3.10/turtle.py\u001b[0m in \u001b[0;36mspeed\u001b[0;34m(speed)\u001b[0m\n",
            "\u001b[0;32m/usr/lib/python3.10/turtle.py\u001b[0m in \u001b[0;36m__init__\u001b[0;34m(self, shape, undobuffersize, visible)\u001b[0m\n\u001b[1;32m   3812\u001b[0m                  visible=_CFG[\"visible\"]):\n\u001b[1;32m   3813\u001b[0m         \u001b[0;32mif\u001b[0m \u001b[0mTurtle\u001b[0m\u001b[0;34m.\u001b[0m\u001b[0m_screen\u001b[0m \u001b[0;32mis\u001b[0m \u001b[0;32mNone\u001b[0m\u001b[0;34m:\u001b[0m\u001b[0;34m\u001b[0m\u001b[0;34m\u001b[0m\u001b[0m\n\u001b[0;32m-> 3814\u001b[0;31m             \u001b[0mTurtle\u001b[0m\u001b[0;34m.\u001b[0m\u001b[0m_screen\u001b[0m \u001b[0;34m=\u001b[0m \u001b[0mScreen\u001b[0m\u001b[0;34m(\u001b[0m\u001b[0;34m)\u001b[0m\u001b[0;34m\u001b[0m\u001b[0;34m\u001b[0m\u001b[0m\n\u001b[0m\u001b[1;32m   3815\u001b[0m         RawTurtle.__init__(self, Turtle._screen,\n\u001b[1;32m   3816\u001b[0m                            \u001b[0mshape\u001b[0m\u001b[0;34m=\u001b[0m\u001b[0mshape\u001b[0m\u001b[0;34m,\u001b[0m\u001b[0;34m\u001b[0m\u001b[0;34m\u001b[0m\u001b[0m\n",
            "\u001b[0;32m/usr/lib/python3.10/turtle.py\u001b[0m in \u001b[0;36mScreen\u001b[0;34m()\u001b[0m\n\u001b[1;32m   3662\u001b[0m     else return the existing one.\"\"\"\n\u001b[1;32m   3663\u001b[0m     \u001b[0;32mif\u001b[0m \u001b[0mTurtle\u001b[0m\u001b[0;34m.\u001b[0m\u001b[0m_screen\u001b[0m \u001b[0;32mis\u001b[0m \u001b[0;32mNone\u001b[0m\u001b[0;34m:\u001b[0m\u001b[0;34m\u001b[0m\u001b[0;34m\u001b[0m\u001b[0m\n\u001b[0;32m-> 3664\u001b[0;31m         \u001b[0mTurtle\u001b[0m\u001b[0;34m.\u001b[0m\u001b[0m_screen\u001b[0m \u001b[0;34m=\u001b[0m \u001b[0m_Screen\u001b[0m\u001b[0;34m(\u001b[0m\u001b[0;34m)\u001b[0m\u001b[0;34m\u001b[0m\u001b[0;34m\u001b[0m\u001b[0m\n\u001b[0m\u001b[1;32m   3665\u001b[0m     \u001b[0;32mreturn\u001b[0m \u001b[0mTurtle\u001b[0m\u001b[0;34m.\u001b[0m\u001b[0m_screen\u001b[0m\u001b[0;34m\u001b[0m\u001b[0;34m\u001b[0m\u001b[0m\n\u001b[1;32m   3666\u001b[0m \u001b[0;34m\u001b[0m\u001b[0m\n",
            "\u001b[0;32m/usr/lib/python3.10/turtle.py\u001b[0m in \u001b[0;36m__init__\u001b[0;34m(self)\u001b[0m\n\u001b[1;32m   3678\u001b[0m         \u001b[0;31m# preserved (perhaps by passing it as an optional parameter)\u001b[0m\u001b[0;34m\u001b[0m\u001b[0;34m\u001b[0m\u001b[0m\n\u001b[1;32m   3679\u001b[0m         \u001b[0;32mif\u001b[0m \u001b[0m_Screen\u001b[0m\u001b[0;34m.\u001b[0m\u001b[0m_root\u001b[0m \u001b[0;32mis\u001b[0m \u001b[0;32mNone\u001b[0m\u001b[0;34m:\u001b[0m\u001b[0;34m\u001b[0m\u001b[0;34m\u001b[0m\u001b[0m\n\u001b[0;32m-> 3680\u001b[0;31m             \u001b[0m_Screen\u001b[0m\u001b[0;34m.\u001b[0m\u001b[0m_root\u001b[0m \u001b[0;34m=\u001b[0m \u001b[0mself\u001b[0m\u001b[0;34m.\u001b[0m\u001b[0m_root\u001b[0m \u001b[0;34m=\u001b[0m \u001b[0m_Root\u001b[0m\u001b[0;34m(\u001b[0m\u001b[0;34m)\u001b[0m\u001b[0;34m\u001b[0m\u001b[0;34m\u001b[0m\u001b[0m\n\u001b[0m\u001b[1;32m   3681\u001b[0m             \u001b[0mself\u001b[0m\u001b[0;34m.\u001b[0m\u001b[0m_root\u001b[0m\u001b[0;34m.\u001b[0m\u001b[0mtitle\u001b[0m\u001b[0;34m(\u001b[0m\u001b[0m_Screen\u001b[0m\u001b[0;34m.\u001b[0m\u001b[0m_title\u001b[0m\u001b[0;34m)\u001b[0m\u001b[0;34m\u001b[0m\u001b[0;34m\u001b[0m\u001b[0m\n\u001b[1;32m   3682\u001b[0m             \u001b[0mself\u001b[0m\u001b[0;34m.\u001b[0m\u001b[0m_root\u001b[0m\u001b[0;34m.\u001b[0m\u001b[0mondestroy\u001b[0m\u001b[0;34m(\u001b[0m\u001b[0mself\u001b[0m\u001b[0;34m.\u001b[0m\u001b[0m_destroy\u001b[0m\u001b[0;34m)\u001b[0m\u001b[0;34m\u001b[0m\u001b[0;34m\u001b[0m\u001b[0m\n",
            "\u001b[0;32m/usr/lib/python3.10/turtle.py\u001b[0m in \u001b[0;36m__init__\u001b[0;34m(self)\u001b[0m\n\u001b[1;32m    433\u001b[0m     \u001b[0;34m\"\"\"Root class for Screen based on Tkinter.\"\"\"\u001b[0m\u001b[0;34m\u001b[0m\u001b[0;34m\u001b[0m\u001b[0m\n\u001b[1;32m    434\u001b[0m     \u001b[0;32mdef\u001b[0m \u001b[0m__init__\u001b[0m\u001b[0;34m(\u001b[0m\u001b[0mself\u001b[0m\u001b[0;34m)\u001b[0m\u001b[0;34m:\u001b[0m\u001b[0;34m\u001b[0m\u001b[0;34m\u001b[0m\u001b[0m\n\u001b[0;32m--> 435\u001b[0;31m         \u001b[0mTK\u001b[0m\u001b[0;34m.\u001b[0m\u001b[0mTk\u001b[0m\u001b[0;34m.\u001b[0m\u001b[0m__init__\u001b[0m\u001b[0;34m(\u001b[0m\u001b[0mself\u001b[0m\u001b[0;34m)\u001b[0m\u001b[0;34m\u001b[0m\u001b[0;34m\u001b[0m\u001b[0m\n\u001b[0m\u001b[1;32m    436\u001b[0m \u001b[0;34m\u001b[0m\u001b[0m\n\u001b[1;32m    437\u001b[0m     \u001b[0;32mdef\u001b[0m \u001b[0msetupcanvas\u001b[0m\u001b[0;34m(\u001b[0m\u001b[0mself\u001b[0m\u001b[0;34m,\u001b[0m \u001b[0mwidth\u001b[0m\u001b[0;34m,\u001b[0m \u001b[0mheight\u001b[0m\u001b[0;34m,\u001b[0m \u001b[0mcwidth\u001b[0m\u001b[0;34m,\u001b[0m \u001b[0mcheight\u001b[0m\u001b[0;34m)\u001b[0m\u001b[0;34m:\u001b[0m\u001b[0;34m\u001b[0m\u001b[0;34m\u001b[0m\u001b[0m\n",
            "\u001b[0;32m/usr/lib/python3.10/tkinter/__init__.py\u001b[0m in \u001b[0;36m__init__\u001b[0;34m(self, screenName, baseName, className, useTk, sync, use)\u001b[0m\n\u001b[1;32m   2297\u001b[0m                 \u001b[0mbaseName\u001b[0m \u001b[0;34m=\u001b[0m \u001b[0mbaseName\u001b[0m \u001b[0;34m+\u001b[0m \u001b[0mext\u001b[0m\u001b[0;34m\u001b[0m\u001b[0;34m\u001b[0m\u001b[0m\n\u001b[1;32m   2298\u001b[0m         \u001b[0minteractive\u001b[0m \u001b[0;34m=\u001b[0m \u001b[0;32mFalse\u001b[0m\u001b[0;34m\u001b[0m\u001b[0;34m\u001b[0m\u001b[0m\n\u001b[0;32m-> 2299\u001b[0;31m         \u001b[0mself\u001b[0m\u001b[0;34m.\u001b[0m\u001b[0mtk\u001b[0m \u001b[0;34m=\u001b[0m \u001b[0m_tkinter\u001b[0m\u001b[0;34m.\u001b[0m\u001b[0mcreate\u001b[0m\u001b[0;34m(\u001b[0m\u001b[0mscreenName\u001b[0m\u001b[0;34m,\u001b[0m \u001b[0mbaseName\u001b[0m\u001b[0;34m,\u001b[0m \u001b[0mclassName\u001b[0m\u001b[0;34m,\u001b[0m \u001b[0minteractive\u001b[0m\u001b[0;34m,\u001b[0m \u001b[0mwantobjects\u001b[0m\u001b[0;34m,\u001b[0m \u001b[0museTk\u001b[0m\u001b[0;34m,\u001b[0m \u001b[0msync\u001b[0m\u001b[0;34m,\u001b[0m \u001b[0muse\u001b[0m\u001b[0;34m)\u001b[0m\u001b[0;34m\u001b[0m\u001b[0;34m\u001b[0m\u001b[0m\n\u001b[0m\u001b[1;32m   2300\u001b[0m         \u001b[0;32mif\u001b[0m \u001b[0museTk\u001b[0m\u001b[0;34m:\u001b[0m\u001b[0;34m\u001b[0m\u001b[0;34m\u001b[0m\u001b[0m\n\u001b[1;32m   2301\u001b[0m             \u001b[0mself\u001b[0m\u001b[0;34m.\u001b[0m\u001b[0m_loadtk\u001b[0m\u001b[0;34m(\u001b[0m\u001b[0;34m)\u001b[0m\u001b[0;34m\u001b[0m\u001b[0;34m\u001b[0m\u001b[0m\n",
            "\u001b[0;31mTclError\u001b[0m: no display name and no $DISPLAY environment variable"
          ]
        }
      ]
    },
    {
      "cell_type": "code",
      "source": [
        "import numpy as np\n",
        "import matplotlib.pyplot as plt\n",
        "\n",
        "# Create the heart shape formula\n",
        "t = np.linspace(0, 2 * np.pi, 1000)\n",
        "x = 16 * np.sin(t)**3\n",
        "y = 13 * np.cos(t) - 5 * np.cos(2 * t) - 2 * np.cos(3 * t) - np.cos(4 * t)\n",
        "\n",
        "# Plot the heart\n",
        "plt.figure(figsize=(6, 6))\n",
        "plt.plot(x, y, color='red')\n",
        "plt.title('Heart Shape')\n",
        "plt.axis('equal')\n",
        "plt.axis('off')\n",
        "plt.show()\n"
      ],
      "metadata": {
        "colab": {
          "base_uri": "https://localhost:8080/",
          "height": 521
        },
        "collapsed": true,
        "id": "5svXwtCILbp6",
        "outputId": "5aaa3e41-080f-41a4-e5cc-a8e5501ccbce"
      },
      "execution_count": null,
      "outputs": [
        {
          "output_type": "display_data",
          "data": {
            "text/plain": [
              "<Figure size 600x600 with 1 Axes>"
            ],
            "image/png": "[encoded data removed]"
          },
          "metadata": {}
        }
      ]
    },
    {
      "cell_type": "code",
      "source": [
        "print(\"hello ! banty\")\n",
        "# # import random\n",
        "# # print(random.randint(a,b))\n",
        "# a=int(input(\"enter the first number   = \"))\n",
        "# b=int(input(\"enter the second number  = \"))\n",
        "# print(a+b)\n",
        "# a,b=b,a\n",
        "# print(f\"this is swapp first become second {a} and second become first {b}\")\n",
        "# celsius = float(input(\"enter celcius value\"))\n",
        "# fahrenight =celsius*1.8+32\n",
        "# # print(fahrenight)\n",
        "# year=int(input(\"enter the year  \"))\n",
        "# if year%400==0 and year%100==0:\n",
        "#     print(\"leap year\")\n",
        "# elif year%4==0 and year%100!=0:\n",
        "#     print(f\" {year}leap year\")\n",
        "# else:\n",
        "#     print(f\" {year} not leap year\")\n",
        "# num = int(input(\"enter the number  \"))\n",
        "# if num==0 or num==1:\n",
        "#   print(num,\"it is not prime\")\n",
        "# elif num > 1:\n",
        "#   for i in range(2,num):\n",
        "#     if num%i==0:\n",
        "#       print (num,\"it is not prime \")\n",
        "#       print(i,\"times\",num//i,\"=\",num)\n",
        "#       break\n",
        "#   else:\n",
        "#     print(num,\"it is  prime\")\n",
        "\n",
        "# else:\n",
        "#   print(num,\"it is invalid prime\")\n",
        "# lower=int(input(\"enter the lower value  \"))\n",
        "# upper=int(input(\"enter the upper value  \"))\n",
        "# for num in range(lower,upper+1):\n",
        "#   if num>1:\n",
        "#     for i in range(2,num):\n",
        "#       if num%i==0:\n",
        "#         break\n",
        "#     else:\n",
        "#       print(num)\n",
        "inum= int(input(\"enter the number  \"))\n",
        "\n"
      ],
      "metadata": {
        "colab": {
          "base_uri": "https://localhost:8080/"
        },
        "id": "_p4hmgfYw2SG",
        "outputId": "af5109d0-9839-4d6a-9546-6cde19f6087e"
      },
      "execution_count": null,
      "outputs": [
        {
          "output_type": "stream",
          "name": "stdout",
          "text": [
            "hello ! banty\n",
            "enter the lower value20\n",
            "enter the upper value30\n",
            "23\n",
            "29\n"
          ]
        }
      ]
    },
    {
      "cell_type": "markdown",
      "source": [
        "# LIST\n",
        "list are used to store multiple items in a single variable. list are one of 4 built in data types in python used to store collections of data.\n",
        "list are created using square brackets.\n",
        "\n",
        "** list item** => <br>\n",
        " list item are ordered, changeable and allow duplicate values.\n",
        "list item are indexed ,the first item indexed [0] ,the second item has index [1] etc.  \n",
        "*ordered*  - <br>\n",
        "it means theat the item have a defined order and that order will not change , if you add new item to a list , the new items will be placed at the end of the list.(some list method  that will change the order).\n",
        "*changebale* - <br>\n",
        " it means that we can change , add and remove items in a list after it has been created.\n",
        "*allow duplicate* - <br>\n",
        "list are indexed ,list can have items with the same value"
      ],
      "metadata": {
        "id": "XzVhMJqEMTbU"
      }
    },
    {
      "cell_type": "code",
      "source": [
        "#allow duplicate\n",
        "list=[\"bamtky\",\"mad\",\"mad\",\"bamtky\"]\n",
        "print(list)\n",
        "print(len(list))\n",
        "# list can accept any data type\n",
        "check=[\"banty\",12,True,False,\"L\"]\n",
        "print(check)\n",
        "print(type(check))\n",
        "#using list() constructor ,use double round bracket to create list\n",
        "bantu= ((1,3))#nex time\n",
        "print(bantu)\n",
        "print(type(bantu))\n",
        "#access item\n",
        "print(list[0])\n",
        "#negative item\n",
        "print(list[-3])#it start from last\n",
        "#range of index\n",
        "print(list[0:3])# it start with first num but end with last num - 1.\n",
        "#negative number\n",
        "print(check[-3:-1])# it run -3 and -2 not include -1\n",
        "check=[True,\"faster\"]\n",
        "if True in check:\n",
        "  print(\"yes u are true\")\n",
        "else:\n",
        "   print(\" correct value not get\")\n",
        "\n",
        "#change item vlaue\n",
        "list[2]=\"banty is bastard\"\n",
        "print(list)\n",
        "list[3:6]=[\"banty got\",2,443]# change range of the value\n",
        "print(list)# insert more item than replace, the new item will be inserted where you specified , and the remaining item will move.\n",
        "list[ :2]=[\"it bad mastering\"] #insert less item than replace,insert item than space and other delete\n",
        "print(list)\n",
        "list.insert(0,\"boss\")#it put at specific index you can choice by yourself\n",
        "print(list)\n",
        "list.append(\"kangroo\")#it put in the end of the list\n",
        "print(list)\n",
        "list.extend(check)#it add both the list\n",
        "print(list)\n",
        "tuple=(1,1,2,22,33,\"banty\",3)\n",
        "list.extend(tuple)\n",
        "print(list)#yoou can add any iterable object\n",
        "list.remove(\"banty got\")\n",
        "print(list)\n",
        "list.pop(3)#if u don't use pop index then delete last index\n",
        "print(list)\n",
        "del list#also u can delete specific index\n",
        "print(list)\n",
        "check.clear()#clear method empty the list\n",
        "print(check)\n"
      ],
      "metadata": {
        "colab": {
          "base_uri": "https://localhost:8080/"
        },
        "id": "NPulbEG_QUMu",
        "outputId": "b0edecc7-39d8-4fd5-b34f-4317406fa5c4"
      },
      "execution_count": null,
      "outputs": [
        {
          "output_type": "stream",
          "name": "stdout",
          "text": [
            "['bamtky', 'mad', 'mad', 'bamtky']\n",
            "4\n",
            "['banty', 12, True, False, 'L']\n",
            "<class 'list'>\n",
            "(1, 3)\n",
            "<class 'tuple'>\n",
            "bamtky\n",
            "mad\n",
            "['bamtky', 'mad', 'mad']\n",
            "[True, False]\n",
            "yes u are true\n",
            "['bamtky', 'mad', 'banty is bastard', 'bamtky']\n",
            "['bamtky', 'mad', 'banty is bastard', 'banty got', 2, 443]\n",
            "['it bad mastering', 'banty is bastard', 'banty got', 2, 443]\n",
            "['boss', 'it bad mastering', 'banty is bastard', 'banty got', 2, 443]\n",
            "['boss', 'it bad mastering', 'banty is bastard', 'banty got', 2, 443, 'kangroo']\n",
            "['boss', 'it bad mastering', 'banty is bastard', 'banty got', 2, 443, 'kangroo', True, 'faster']\n",
            "['boss', 'it bad mastering', 'banty is bastard', 'banty got', 2, 443, 'kangroo', True, 'faster', 1, 1, 2, 22, 33, 'banty', 3]\n",
            "['boss', 'it bad mastering', 'banty is bastard', 2, 443, 'kangroo', True, 'faster', 1, 1, 2, 22, 33, 'banty', 3]\n",
            "['boss', 'it bad mastering', 'banty is bastard', 443, 'kangroo', True, 'faster', 1, 1, 2, 22, 33, 'banty', 3]\n",
            "<class 'list'>\n",
            "[]\n"
          ]
        }
      ]
    }
  ],
  "metadata": {
    "colab": {
      "provenance": [],
      "authorship_tag": "ABX9TyNdYmU03HcrNlpw0zPoO9Rj",
      "include_colab_link": true
    },
    "kernelspec": {
      "display_name": "Python 3",
      "name": "python3"
    },
    "language_info": {
      "name": "python"
    }
  },
  "nbformat": 4,
  "nbformat_minor": 0
}