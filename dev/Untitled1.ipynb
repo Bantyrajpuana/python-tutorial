{
  "nbformat": 4,
  "nbformat_minor": 0,
  "metadata": {
    "colab": {
      "provenance": [],
      "authorship_tag": "ABX9TyPZQn0XYTTIG3J/D95Gz2h1",
      "include_colab_link": true
    },
    "kernelspec": {
      "name": "python3",
      "display_name": "Python 3"
    },
    "language_info": {
      "name": "python"
    }
  },
  "cells": [
    {
      "cell_type": "markdown",
      "metadata": {
        "id": "view-in-github",
        "colab_type": "text"
      },
      "source": [
        "<a href=\"https://colab.research.google.com/github/Bantyrajpuana/python-tutorial/blob/main/dev/Untitled1.ipynb\" target=\"_parent\"><img src=\"https://colab.research.google.com/assets/colab-badge.svg\" alt=\"Open In Colab\"/></a>"
      ]
    },
    {
      "cell_type": "markdown",
      "source": [
        "# numpy\n",
        "numpy is python libaray.<br>\n",
        "numpy called numerical python.<br>\n",
        "numpy is used to working with array.<br>\n",
        "it was created in 2005 by travis oliphant.it is an open source project it is used eaisly.<br>\n",
        "it also has function for working domain of linear algebra, fourier transformand matrices.<br>\n",
        "numpy always be written in python.<br>\n",
        "\n",
        "# why use numpy\n",
        "in python we have list that serve the purpose of array .but they are slow to process.\n",
        "numpy aims to provide an array object that is up to fa\n",
        "\n"
      ],
      "metadata": {
        "id": "6Wz9Srv8p3IR"
      }
    },
    {
      "cell_type": "code",
      "source": [
        "\n",
        "# numpy example\n",
        "import numpy as np\n",
        "arr=np.array([1,3,4,5,6,7,9])\n",
        "print(arr)\n",
        "print(type(arr))"
      ],
      "metadata": {
        "colab": {
          "base_uri": "https://localhost:8080/"
        },
        "id": "S2ZMjhWJqKn_",
        "outputId": "58052355-7049-4a8d-bf57-28416ca7571d"
      },
      "execution_count": null,
      "outputs": [
        {
          "output_type": "stream",
          "name": "stdout",
          "text": [
            "[1 3 4 5 6 7 9]\n",
            "<class 'numpy.ndarray'>\n"
          ]
        }
      ]
    },
    {
      "cell_type": "markdown",
      "source": [
        "<h1>Dimension in array<h1>\n",
        "a dimension in array is one level of array depth (nested array (nested array are array that have array as their element ))\n",
        "\n",
        "<h2>0-d array<h2>\n",
        "0-d array or scalarare the element in an array ,each value in an array is a 0-d array..\n",
        "\n",
        "<h3>1-d array <h3>\n",
        "an array that has a 0-d array as its element called unidemensional array or 1-d array..\n",
        "\n",
        "<h4>2-d array<h4>\n",
        "\n",
        "<h4>3-d array<h4>"
      ],
      "metadata": {
        "id": "s2Aulqwmqepb"
      }
    },
    {
      "cell_type": "code",
      "source": [
        "import numpy as np\n",
        "arr0d=np.array(44)\n",
        "print(arr0d)\n",
        "print(arr0d.ndim)"
      ],
      "metadata": {
        "colab": {
          "base_uri": "https://localhost:8080/"
        },
        "id": "kiLImfk2rRqw",
        "outputId": "0521fea5-9c6b-4cf2-f6c1-7bb766181357"
      },
      "execution_count": null,
      "outputs": [
        {
          "output_type": "stream",
          "name": "stdout",
          "text": [
            "44\n",
            "0\n"
          ]
        }
      ]
    },
    {
      "cell_type": "code",
      "source": [
        "import numpy as np\n",
        "arr1d=np.array([44,34,45,52,5,2,2])\n",
        "print(arr1d)\n",
        "print(arr1d.ndim)"
      ],
      "metadata": {
        "colab": {
          "base_uri": "https://localhost:8080/"
        },
        "id": "vqrC-BE2rSJ0",
        "outputId": "27f8cf32-b14c-4439-a33a-b083fdf0fab9"
      },
      "execution_count": null,
      "outputs": [
        {
          "output_type": "stream",
          "name": "stdout",
          "text": [
            "[44 34 45 52  5  2  2]\n",
            "1\n"
          ]
        }
      ]
    },
    {
      "cell_type": "code",
      "source": [
        "import numpy as np\n",
        "arr2d=np.array([[44,33,55],[22,33,44]])\n",
        "print(arr2d)\n",
        "print(arr2d.ndim)"
      ],
      "metadata": {
        "colab": {
          "base_uri": "https://localhost:8080/"
        },
        "id": "bpKU6HyorSea",
        "outputId": "0f3471fe-11e8-4d74-f4f0-bf2baa6447f1"
      },
      "execution_count": null,
      "outputs": [
        {
          "output_type": "stream",
          "name": "stdout",
          "text": [
            "[[44 33 55]\n",
            " [22 33 44]]\n",
            "2\n"
          ]
        }
      ]
    },
    {
      "cell_type": "code",
      "source": [
        "import numpy as np\n",
        "arr3d=np.array([[[33,34,556,44,7],[33,55,66,66,66],[22,444,55,66,66677]]])\n",
        "print(arr3d)\n",
        "print(arr3d.ndim)"
      ],
      "metadata": {
        "colab": {
          "base_uri": "https://localhost:8080/"
        },
        "id": "YmHId_bvrS5R",
        "outputId": "f0da705a-e90f-40e2-b493-045da62168f8"
      },
      "execution_count": null,
      "outputs": [
        {
          "output_type": "stream",
          "name": "stdout",
          "text": [
            "[[[   33    34   556    44     7]\n",
            "  [   33    55    66    66    66]\n",
            "  [   22   444    55    66 66677]]]\n",
            "3\n"
          ]
        }
      ]
    },
    {
      "cell_type": "code",
      "source": [
        "import numpy as np\n",
        "arr=np.array([33,34,556,44,7], ndmin=32)\n",
        "print(arr)\n",
        "print('num of dim ; ',arr.ndim)"
      ],
      "metadata": {
        "colab": {
          "base_uri": "https://localhost:8080/"
        },
        "id": "7-z-ecCErIG-",
        "outputId": "ec075343-7cc8-4ba7-982e-774a9b27e885"
      },
      "execution_count": null,
      "outputs": [
        {
          "output_type": "stream",
          "name": "stdout",
          "text": [
            "[[[[[[[[[[[[[[[[[[[[[[[[[[[[[[[[ 33  34 556\n",
            "                                 44   7]]]]]]]]]]]]]]]]]]]]]]]]]]]]]]]]\n",
            "num of dim ;  32\n"
          ]
        }
      ]
    },
    {
      "cell_type": "code",
      "source": [
        "import numpy as np\n",
        "arr=np.array([33,34,556,44,7])\n",
        "print(arr[4])\n",
        "print(arr[4]-arr[2])"
      ],
      "metadata": {
        "colab": {
          "base_uri": "https://localhost:8080/"
        },
        "id": "7pDz2py9r6lb",
        "outputId": "9b269efe-da4c-4b82-cedc-b98aa0de54a4"
      },
      "execution_count": null,
      "outputs": [
        {
          "output_type": "stream",
          "name": "stdout",
          "text": [
            "7\n",
            "-549\n"
          ]
        }
      ]
    },
    {
      "cell_type": "code",
      "source": [
        "import numpy as np\n",
        "arr=np.array([[33,34,556,44,7],[33,33,22,11,22]])\n",
        "print(arr[1])\n",
        "print('location',arr[1,3])\n",
        "ind=np.nonzero(arr)\n",
        "print(ind[0])\n",
        "print('location',33)"
      ],
      "metadata": {
        "colab": {
          "base_uri": "https://localhost:8080/"
        },
        "id": "_Imjj4rMsI1V",
        "outputId": "8ad4a342-0542-4360-8dc0-ef5fa063586a"
      },
      "execution_count": null,
      "outputs": [
        {
          "output_type": "stream",
          "name": "stdout",
          "text": [
            "[33 33 22 11 22]\n",
            "location 11\n",
            "[0 0 0 0 0 1 1 1 1 1]\n",
            "location 33\n"
          ]
        }
      ]
    },
    {
      "cell_type": "code",
      "source": [],
      "metadata": {
        "id": "HkbcrQX0zvkz"
      },
      "execution_count": null,
      "outputs": []
    }
  ]
}